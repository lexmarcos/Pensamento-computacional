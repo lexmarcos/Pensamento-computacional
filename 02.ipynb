{
  "nbformat": 4,
  "nbformat_minor": 0,
  "metadata": {
    "colab": {
      "name": "02.ipynb",
      "version": "0.3.2",
      "provenance": [],
      "include_colab_link": true
    },
    "language_info": {
      "codemirror_mode": {
        "name": "ipython",
        "version": 3
      },
      "file_extension": ".py",
      "mimetype": "text/x-python",
      "name": "python",
      "nbconvert_exporter": "python",
      "pygments_lexer": "ipython3",
      "version": "3.6.7"
    },
    "kernelspec": {
      "display_name": "Python 3",
      "language": "python",
      "name": "python3"
    }
  },
  "cells": [
    {
      "cell_type": "markdown",
      "metadata": {
        "id": "view-in-github",
        "colab_type": "text"
      },
      "source": [
        "<a href=\"https://colab.research.google.com/github/lexmarcos/Pensamento-computacional/blob/master/02.ipynb\" target=\"_parent\"><img src=\"https://colab.research.google.com/assets/colab-badge.svg\" alt=\"Open In Colab\"/></a>"
      ]
    },
    {
      "cell_type": "markdown",
      "metadata": {
        "id": "1ndHJesqxjrI",
        "colab_type": "text"
      },
      "source": [
        "<small><small><i>\n",
        "Este notebook foi baseado nos notebooks disponíveis em [https://gitlab.erc.monash.edu.au/andrease/Python4Maths.git]\n",
        "</i></small></small>"
      ]
    },
    {
      "cell_type": "markdown",
      "metadata": {
        "id": "ca1qEAA_xjrM",
        "colab_type": "text"
      },
      "source": [
        "# Comparando e decidindo\n",
        "\n",
        "Python permite comparar os valores associados a diferentes variáveis usando **operadores de comparação**. \n",
        "\n",
        "Expressões que contêm operadores de comparação são chamadas **expressões lógicas** e podem ser usadas em **estruturas de decisão** para decidir o que o seu código deve fazer. \n",
        "\n",
        "Neste roteiro, você aprenderá a utilizar estes conceitos da linguagem Python.\n",
        "\n",
        "## Operadores de comparação\n",
        "\n",
        "Operadores de comparação são utilizados para construir **expressões lógicas**. \n",
        "\n",
        "As regras básicas sobre expressões lógicas em Python são:\n",
        "\n",
        "* Expressões lógicas são avaliadas como verdadeiras (**True**) ou falsas (**False**).\n",
        "* Todos os operadores de comparação em Python têm precedência igual. \n",
        "* Assim como em expressões aritméticas, é possível usar parênteses para mudar a ordem de avaliação de uma expressão.\n",
        "* Caso haja empate de precedência, a expressão é avaliada da esquerda para a direita.\n",
        "\n",
        "Alguns dos operadores de comparação disponíveis em Python estão listados abaixo. "
      ]
    },
    {
      "cell_type": "markdown",
      "metadata": {
        "id": "QlgPlre5xjrN",
        "colab_type": "text"
      },
      "source": [
        "| Símbolo | Significado |\n",
        "|:----:|---|\n",
        "| == | Igualdade |\n",
        "| !=  | Diferença |\n",
        "| < | Menor |\n",
        "| > | Maior |\n",
        "| <=  | Menor ou igual |\n",
        "| >=  | Maior ou igual |\n",
        "\n",
        "Note que é diferente usar `==` (comparação de igualdade) e `=` (associação de variável a valor)."
      ]
    },
    {
      "cell_type": "code",
      "metadata": {
        "id": "vVazH_mkxjrN",
        "colab_type": "code",
        "colab": {}
      },
      "source": [
        "z = 2\n",
        "z == 2"
      ],
      "execution_count": 0,
      "outputs": []
    },
    {
      "cell_type": "code",
      "metadata": {
        "id": "MaeHMREMxjrR",
        "colab_type": "code",
        "colab": {}
      },
      "source": [
        "z > 2"
      ],
      "execution_count": 0,
      "outputs": []
    },
    {
      "cell_type": "code",
      "metadata": {
        "id": "8CvtxA7GxjrT",
        "colab_type": "code",
        "colab": {}
      },
      "source": [
        "z <= 2"
      ],
      "execution_count": 0,
      "outputs": []
    },
    {
      "cell_type": "code",
      "metadata": {
        "scrolled": true,
        "id": "Af6UiBAQxjrX",
        "colab_type": "code",
        "colab": {}
      },
      "source": [
        "z != 2"
      ],
      "execution_count": 0,
      "outputs": []
    },
    {
      "cell_type": "markdown",
      "metadata": {
        "id": "qEZgyjz8xjrc",
        "colab_type": "text"
      },
      "source": [
        "### Exercícios de fixação"
      ]
    },
    {
      "cell_type": "markdown",
      "metadata": {
        "id": "_0ZWq_n2xjrd",
        "colab_type": "text"
      },
      "source": [
        "1 - Leia dois números inteiros e teste se o primeiro é menor do que o segundo."
      ]
    },
    {
      "cell_type": "code",
      "metadata": {
        "id": "nD6cxMO4xjrd",
        "colab_type": "code",
        "colab": {}
      },
      "source": [
        ""
      ],
      "execution_count": 0,
      "outputs": []
    },
    {
      "cell_type": "markdown",
      "metadata": {
        "id": "RsVCbt5Lxjrh",
        "colab_type": "text"
      },
      "source": [
        "2 - Sorteie dois números e teste se ambos são iguais.\n",
        "\n",
        "**Dica --** O procedimento **randint**(*menor*, *maior*) sorteia inteiros no intervalo entre menor e maior. Este procedimento não é um procedimento nativo do Python, por isso precisamos importá-lo do módulo **random**, que o fornece."
      ]
    },
    {
      "cell_type": "code",
      "metadata": {
        "scrolled": true,
        "id": "TUSxx8FRxjrk",
        "colab_type": "code",
        "colab": {}
      },
      "source": [
        "from random import randint\n",
        "randint(0,100)"
      ],
      "execution_count": 0,
      "outputs": []
    },
    {
      "cell_type": "markdown",
      "metadata": {
        "id": "IH5xtO46xjrn",
        "colab_type": "text"
      },
      "source": [
        "### Comparando textos"
      ]
    },
    {
      "cell_type": "markdown",
      "metadata": {
        "id": "HKogRX7vxjro",
        "colab_type": "text"
      },
      "source": [
        "Também é possível utilizar operadores de comparação para comparar textos:\n",
        "* A igualdade (==) e a diferença (!=) funcionam de forma trivial, assim como no caso dos valores numéricos.\n",
        "* As demais operações consideram a ordem alfabética.\n"
      ]
    },
    {
      "cell_type": "code",
      "metadata": {
        "id": "wAppA2oDxjro",
        "colab_type": "code",
        "colab": {}
      },
      "source": [
        "nome = \"Stevejobsson\"\n",
        "nome == \"Stevejobsson\""
      ],
      "execution_count": 0,
      "outputs": []
    },
    {
      "cell_type": "code",
      "metadata": {
        "id": "NdCfEn8Nxjru",
        "colab_type": "code",
        "colab": {}
      },
      "source": [
        "nome != \"Facebookson\""
      ],
      "execution_count": 0,
      "outputs": []
    },
    {
      "cell_type": "code",
      "metadata": {
        "id": "blOWgpLAxjry",
        "colab_type": "code",
        "colab": {}
      },
      "source": [
        "'abc' < 'bbc'"
      ],
      "execution_count": 0,
      "outputs": []
    },
    {
      "cell_type": "code",
      "metadata": {
        "id": "gWWRyadsxjr1",
        "colab_type": "code",
        "colab": {}
      },
      "source": [
        "'bbc' <= 'bbc'"
      ],
      "execution_count": 0,
      "outputs": []
    },
    {
      "cell_type": "code",
      "metadata": {
        "id": "9Eb16ed0xjr4",
        "colab_type": "code",
        "colab": {}
      },
      "source": [
        "'bbc' <= 'bac'"
      ],
      "execution_count": 0,
      "outputs": []
    },
    {
      "cell_type": "markdown",
      "metadata": {
        "id": "9YNw3sUgxjr8",
        "colab_type": "text"
      },
      "source": [
        "### Exercícios de fixação"
      ]
    },
    {
      "cell_type": "markdown",
      "metadata": {
        "id": "eqDlgeCQxjr9",
        "colab_type": "text"
      },
      "source": [
        "3 - Leia dois nomes e teste se o primeiro é anterior ao segundo considerando a ordem alfabética."
      ]
    },
    {
      "cell_type": "code",
      "metadata": {
        "id": "TAwUP8GWxjr-",
        "colab_type": "code",
        "colab": {}
      },
      "source": [
        ""
      ],
      "execution_count": 0,
      "outputs": []
    },
    {
      "cell_type": "markdown",
      "metadata": {
        "id": "PmT7olhYxjsC",
        "colab_type": "text"
      },
      "source": [
        "4 - Teste se os textos \"Python\" e \"python\" são considerados idênticos."
      ]
    },
    {
      "cell_type": "code",
      "metadata": {
        "id": "ji4Y6tvjxjsD",
        "colab_type": "code",
        "colab": {}
      },
      "source": [
        ""
      ],
      "execution_count": 0,
      "outputs": []
    },
    {
      "cell_type": "markdown",
      "metadata": {
        "id": "5apL21npxjsI",
        "colab_type": "text"
      },
      "source": [
        "## Operadores lógicos"
      ]
    },
    {
      "cell_type": "markdown",
      "metadata": {
        "id": "enimGdJZxjsJ",
        "colab_type": "text"
      },
      "source": [
        "É possível criar expressões lógicas mais complexas utilizando **operadores lógicos**.\n",
        "\n",
        "Os operadores lógicos mais simples do Python são os operadores E (**and**) e OU (**or**).\n",
        "\n",
        "As regras básicas sobre expressões que contenham operadores lógicos em Python são:\n",
        "\n",
        "* Operadores de comparação têm maior precedência que operadores lógicos.\n",
        "* O operador lógico **and** tem maior precedência que o operador **or**. \n",
        "* É possível usar parênteses para mudar a ordem de avaliação de uma expressão.\n",
        "* Caso reste apenas operações de mesma precedência, a expressão passa a ser avaliada da esquerda para a direita."
      ]
    },
    {
      "cell_type": "markdown",
      "metadata": {
        "id": "BtdWM_SVxjsK",
        "colab_type": "text"
      },
      "source": [
        "| Símbolo | Significado |\n",
        "|:----:|---|\n",
        "| **and** | **True**, desde que ambos os lados da expressão sejam verdadeiros |\n",
        "| **or**  | **True**, desde que pelo menos um lado da expressão seja verdadeiro |"
      ]
    },
    {
      "cell_type": "code",
      "metadata": {
        "id": "RA05RQxDxjsK",
        "colab_type": "code",
        "colab": {}
      },
      "source": [
        "\"a\" < \"b\" and 5 >= 5"
      ],
      "execution_count": 0,
      "outputs": []
    },
    {
      "cell_type": "code",
      "metadata": {
        "id": "wbf6jvPHxjsQ",
        "colab_type": "code",
        "colab": {}
      },
      "source": [
        "\"a\" <= \"b\" and 5 > 5"
      ],
      "execution_count": 0,
      "outputs": []
    },
    {
      "cell_type": "code",
      "metadata": {
        "id": "eQLVjuzWxjsV",
        "colab_type": "code",
        "colab": {}
      },
      "source": [
        "\"a\" <= \"b\" or 5 > 5"
      ],
      "execution_count": 0,
      "outputs": []
    },
    {
      "cell_type": "markdown",
      "metadata": {
        "id": "-5o167Kbxjsa",
        "colab_type": "text"
      },
      "source": [
        "### Exercícios de fixação"
      ]
    },
    {
      "cell_type": "markdown",
      "metadata": {
        "id": "hT3nLeFJxjsa",
        "colab_type": "text"
      },
      "source": [
        "5 - Leia um gênero e uma idade. Teste se esta combinação representa alguém em situação de obrigatoriedade militar.\n",
        "\n",
        "**Dica --** Em tempos de \"paz\", o serviço militar só é obrigatório para homens maiores de idade."
      ]
    },
    {
      "cell_type": "code",
      "metadata": {
        "collapsed": true,
        "id": "vSE-dNYNxjsb",
        "colab_type": "code",
        "colab": {}
      },
      "source": [
        ""
      ],
      "execution_count": 0,
      "outputs": []
    },
    {
      "cell_type": "markdown",
      "metadata": {
        "id": "2mmryGajxjse",
        "colab_type": "text"
      },
      "source": [
        "6 - Leia uma idade e teste se esta pessoa está obrigada a votar.\n",
        "\n",
        "**Dica --** Estão obrigados a votar pessoas entre 18 e 70 anos de idade."
      ]
    },
    {
      "cell_type": "code",
      "metadata": {
        "collapsed": true,
        "id": "ZS5imB8uxjsi",
        "colab_type": "code",
        "colab": {}
      },
      "source": [
        ""
      ],
      "execution_count": 0,
      "outputs": []
    },
    {
      "cell_type": "markdown",
      "metadata": {
        "id": "hb-tRu_Exjsl",
        "colab_type": "text"
      },
      "source": [
        "7 - Leia uma idade e teste se para esta pessoa o voto é facultativo.\n",
        "\n",
        "**Dica --** O voto é facultativo para pessoas entre 16 e 18 anos ou acima dos 70 anos."
      ]
    },
    {
      "cell_type": "code",
      "metadata": {
        "collapsed": true,
        "id": "507ZopSjxjsp",
        "colab_type": "code",
        "colab": {}
      },
      "source": [
        ""
      ],
      "execution_count": 0,
      "outputs": []
    },
    {
      "cell_type": "markdown",
      "metadata": {
        "id": "Vnhmk9B0xjsu",
        "colab_type": "text"
      },
      "source": [
        "8 - Leia três inteiros e teste se o primeiro pertence ao intervalo delimitado pelos dois últimos.\n",
        "\n",
        "**Observação --** Por simplicidade, suponha que os dois últimos números estão ordenados de forma crescente."
      ]
    },
    {
      "cell_type": "code",
      "metadata": {
        "collapsed": true,
        "id": "zRyBdL_Jxjsv",
        "colab_type": "code",
        "colab": {}
      },
      "source": [
        ""
      ],
      "execution_count": 0,
      "outputs": []
    },
    {
      "cell_type": "markdown",
      "metadata": {
        "id": "RjdnW-q5xjsx",
        "colab_type": "text"
      },
      "source": [
        "### Estruturas de decisão"
      ]
    },
    {
      "cell_type": "markdown",
      "metadata": {
        "id": "bgM44_Lixjsy",
        "colab_type": "text"
      },
      "source": [
        "A principal estrutura utilizada em Python para definir se um trecho de um código será executado é a estrutura **if**, ilustrada a seguir:\n",
        "\n",
        "```python\n",
        "if condicao:\n",
        "    expressao\n",
        "    expressao\n",
        "    ...```"
      ]
    },
    {
      "cell_type": "markdown",
      "metadata": {
        "id": "iIOz3udMxjsz",
        "colab_type": "text"
      },
      "source": [
        "As regras básicas para o uso da estrutura **if** em Python são:\n",
        "\n",
        "* O trecho de código delimitado por uma estrutura **if** é chamado bloco.\n",
        "* Um bloco é caracterizado pela *identação* de suas linhas. Assim, a quantidade de espaços no começo de cada linha é bastante importante no Python.\n",
        "* O bloco de uma estrutura **if** só é executado se sua condição for satisfeita. A condição é avaliada como uma expressão lógica."
      ]
    },
    {
      "cell_type": "code",
      "metadata": {
        "id": "-oJXwQVUxjsz",
        "colab_type": "code",
        "colab": {}
      },
      "source": [
        "numero = int(input())\n",
        "if numero % 2 == 0:\n",
        "    print(\"O número\", numero, \"é par.\")"
      ],
      "execution_count": 0,
      "outputs": []
    },
    {
      "cell_type": "markdown",
      "metadata": {
        "id": "H44G7fUuxjs1",
        "colab_type": "text"
      },
      "source": [
        "### Exercícios de fixação"
      ]
    },
    {
      "cell_type": "markdown",
      "metadata": {
        "id": "pG0oPqZPxjs2",
        "colab_type": "text"
      },
      "source": [
        "9 - Leia um inteiro e o imprima se ele for múltiplo de 3."
      ]
    },
    {
      "cell_type": "code",
      "metadata": {
        "id": "8YLjH6vKxjs3",
        "colab_type": "code",
        "outputId": "1fc849bd-e1dd-447e-98d0-b461fdba6df1",
        "colab": {
          "base_uri": "https://localhost:8080/",
          "height": 51
        }
      },
      "source": [
        "n = int(input(\"Digite um número: \"))\n",
        "if (n >= 3):\n",
        "  print (\"esse número é maior que 3\")"
      ],
      "execution_count": 0,
      "outputs": [
        {
          "output_type": "stream",
          "text": [
            "Digite um número: 4\n",
            "esse número e maior que 3\n"
          ],
          "name": "stdout"
        }
      ]
    },
    {
      "cell_type": "markdown",
      "metadata": {
        "id": "kuye_ex0xjs5",
        "colab_type": "text"
      },
      "source": [
        "10 - Informe entradas para o código abaixo que façam a mensagem ser impressa."
      ]
    },
    {
      "cell_type": "code",
      "metadata": {
        "id": "y-92YgWexjs7",
        "colab_type": "code",
        "colab": {}
      },
      "source": [
        "texto = input()\n",
        "numero = int(input())\n",
        "if texto < \"hello\" and numero ** 0.5 == 8:\n",
        "    print(\"Mensagem impressa ;)\")"
      ],
      "execution_count": 0,
      "outputs": []
    },
    {
      "cell_type": "markdown",
      "metadata": {
        "id": "Qm0QrRngxjtA",
        "colab_type": "text"
      },
      "source": [
        "### A estrutura ```if-else```"
      ]
    },
    {
      "cell_type": "markdown",
      "metadata": {
        "id": "WRDgSP1axjtB",
        "colab_type": "text"
      },
      "source": [
        "Uma expansão da estrutura **if** é a estrutura **if-else**, que define trechos de código mutuamente exclusivos.\n",
        "\n",
        "```python\n",
        "if condicao:\n",
        "    # bloco se a condição for satisfeita\n",
        "    expressao\n",
        "    ...\n",
        "else:\n",
        "    # bloco se a condição não for satisfeita\n",
        "    expressao\n",
        "    ...\n",
        "```\n",
        "Ambos os blocos de uma estrutura **if-else** devem estar *identados*, de preferência pela mesma quantidade de espaços."
      ]
    },
    {
      "cell_type": "code",
      "metadata": {
        "id": "YkP4LHsYxjtB",
        "colab_type": "code",
        "colab": {}
      },
      "source": [
        "numero = int(input())\n",
        "if numero % 2 == 0:\n",
        "    print(\"O número\", numero, \"é par.\")\n",
        "else:\n",
        "    print(\"O número\", numero, \"é ímpar.\")"
      ],
      "execution_count": 0,
      "outputs": []
    },
    {
      "cell_type": "markdown",
      "metadata": {
        "id": "AoOb39oXxjtE",
        "colab_type": "text"
      },
      "source": [
        "### Exercícios de fixação"
      ]
    },
    {
      "cell_type": "markdown",
      "metadata": {
        "collapsed": true,
        "id": "XMZ0bJdPxjtF",
        "colab_type": "text"
      },
      "source": [
        "11 - Leia um inteiro e informe se ele é ou não múltiplo de 6."
      ]
    },
    {
      "cell_type": "code",
      "metadata": {
        "id": "tHpL8eKkxjtL",
        "colab_type": "code",
        "outputId": "653a9679-e061-4603-e554-e76898207197",
        "colab": {
          "base_uri": "https://localhost:8080/",
          "height": 51
        }
      },
      "source": [
        "n = int(input(\"Digite um número: \"))\n",
        "if(n%6 == 0):\n",
        "  print(\"Esse número é multiplo de 6\")\n",
        "else:\n",
        "  print(\"Esse número não é divisível por 6\")"
      ],
      "execution_count": 0,
      "outputs": [
        {
          "output_type": "stream",
          "text": [
            "Digite um número: 12\n",
            "Esse número é multiplo de 6\n"
          ],
          "name": "stdout"
        }
      ]
    },
    {
      "cell_type": "markdown",
      "metadata": {
        "id": "SqzlUXO6xjtU",
        "colab_type": "text"
      },
      "source": [
        "12 - Leia dois nomes de pessoas e os imprima em ordem alfabética."
      ]
    },
    {
      "cell_type": "code",
      "metadata": {
        "id": "4zDjcj51xjtW",
        "colab_type": "code",
        "outputId": "1d908730-c833-46a3-9b9a-e9bf085222ab",
        "colab": {
          "base_uri": "https://localhost:8080/",
          "height": 68
        }
      },
      "source": [
        "n1 = str(input(\"Digite um nome: \"))\n",
        "n2 = str(input(\"Digite outro nome: \"))\n",
        "if(n1 > n2):\n",
        "  print (n1, \" \", n2)\n",
        "else:\n",
        "  print (n2, \" \", n1) "
      ],
      "execution_count": 0,
      "outputs": [
        {
          "output_type": "stream",
          "text": [
            "Digite um nome: Rafae\n",
            "Digite outro nome: Marcis\n",
            "Rafae   Marcis\n"
          ],
          "name": "stdout"
        }
      ]
    },
    {
      "cell_type": "markdown",
      "metadata": {
        "id": "MlSvMf2ixjtZ",
        "colab_type": "text"
      },
      "source": [
        "### A estrutura ```if-elif-else```"
      ]
    },
    {
      "cell_type": "markdown",
      "metadata": {
        "id": "cLSUFMM8xjta",
        "colab_type": "text"
      },
      "source": [
        "É possível utilizar a estrutura **if-elif-else** para especificar múltiplos fluxos de execução do algoritmo, em função de uma condição principal e de condições alternativas:\n",
        "\n",
        "```python\n",
        "if condicao_principal:\n",
        "    # bloco se a condição principal for satisfeita\n",
        "    expressao\n",
        "    ...\n",
        "elif condicao_alternativa_1:\n",
        "    # bloco se a condição principal não for satisfeita mas a condição alternativa 1 for\n",
        "    expressao\n",
        "    ...\n",
        "elif condicao_alternativa_2:\n",
        "    # bloco se nem a condição principal nem a condição alternativa 1 forem satisfeitas, mas a condição alternativa 2 for\n",
        "    expressao\n",
        "    ...\n",
        "...\n",
        "else:\n",
        "    # bloco se nem a condição principal nem as condições alternativas forem satisfeitas\n",
        "    expressao\n",
        "    ...\n",
        "\n",
        "```"
      ]
    },
    {
      "cell_type": "markdown",
      "metadata": {
        "id": "2xs9yaYNxjtb",
        "colab_type": "text"
      },
      "source": [
        "As regras básicas para o uso da estrutura **if-elif-else** em Python são:\n",
        "\n",
        "* O bloco **if** é executado se a condição principal for satisfeita.\n",
        "* Um bloco **elif** é executado se sua condição for satisfeita e as condições acima dele não forem. \n",
        "* O bloco **else** é executado se nenhuma condição for satisfeita.\n"
      ]
    },
    {
      "cell_type": "code",
      "metadata": {
        "id": "29goGsNmxjtb",
        "colab_type": "code",
        "colab": {}
      },
      "source": [
        "from random import randint\n",
        "\n",
        "numero = randint(0,100)\n",
        "chute = int(input(\"Chute um número entre 0 e 100: \"))\n",
        "if chute == numero:\n",
        "    print(\"Parabéns, você acertou!\")\n",
        "elif chute < numero:\n",
        "    print(\"Seu chute foi menor que o número sorteado!\")\n",
        "else:\n",
        "    print(\"Seu chute foi maior que o número sorteado!\")"
      ],
      "execution_count": 0,
      "outputs": []
    },
    {
      "cell_type": "markdown",
      "metadata": {
        "id": "t4qdh6xnxjtd",
        "colab_type": "text"
      },
      "source": [
        "### Exercícios de fixação"
      ]
    },
    {
      "cell_type": "markdown",
      "metadata": {
        "id": "D7pCjdhhxjte",
        "colab_type": "text"
      },
      "source": [
        "13 - Leia um número e teste se ele é positivo, negativo ou nulo."
      ]
    },
    {
      "cell_type": "code",
      "metadata": {
        "id": "qKlA8irLxjti",
        "colab_type": "code",
        "outputId": "6273d518-cd17-4bac-883d-280ccfa22c1b",
        "colab": {
          "base_uri": "https://localhost:8080/",
          "height": 51
        }
      },
      "source": [
        "n1 = float(input(\"Digite um número\"))\n",
        "if(n1 > 0):\n",
        "  print (\"Esse número é positivo\")\n",
        "elif( n1 == 0):\n",
        "  print(\"esse número é nulo\")\n",
        "else:\n",
        "  print(\"Esse número é negativo\")"
      ],
      "execution_count": 0,
      "outputs": [
        {
          "output_type": "stream",
          "text": [
            "Digite um número0\n",
            "esse número é nulo\n"
          ],
          "name": "stdout"
        }
      ]
    },
    {
      "cell_type": "markdown",
      "metadata": {
        "id": "bZBGE9bkxjtl",
        "colab_type": "text"
      },
      "source": [
        "### Combinando múltiplas estruturas de decisão"
      ]
    },
    {
      "cell_type": "markdown",
      "metadata": {
        "id": "5xc-D9wgxjtm",
        "colab_type": "text"
      },
      "source": [
        "Também é possível combinar estruturas de decisão em múltiplos níveis, o que é conhecido como **aninhar estruturas**.\n",
        "\n",
        "As regras básicas para aninhar estruturas de decisão em Python são:\n",
        "* Não há limite com relação a quantas estruturas e em quantos níveis.\n",
        "* Blocos de níveis mais profundos devem apresentar maior grau de identação. "
      ]
    },
    {
      "cell_type": "code",
      "metadata": {
        "id": "7jQ24LKzxjtm",
        "colab_type": "code",
        "outputId": "3b294803-189c-4091-aaaa-45ff6c5d33d1",
        "colab": {
          "base_uri": "https://localhost:8080/",
          "height": 34
        }
      },
      "source": [
        "from random import randint\n",
        "\n",
        "numero = randint(0,100)\n",
        "if numero % 6 == 0:\n",
        "    print(\"O número\", numero, \"é múltiplo de 6!\")\n",
        "else:\n",
        "    if numero % 2 == 0:\n",
        "        print(\"O número\", numero, \"é múltiplo de 2, mas não de 3!\")\n",
        "    elif numero % 3 == 0:\n",
        "        print(\"O número\", numero, \"é múltiplo de 3, mas não de 2!\")\n",
        "    else:\n",
        "        print(\"O número\", numero, \"não é multiplo de 2 nem de 3, muito menos de 6!\")"
      ],
      "execution_count": 0,
      "outputs": [
        {
          "output_type": "stream",
          "text": [
            "O número 91 não é multiplo de 2 nem de 3, muito menos de 6!\n"
          ],
          "name": "stdout"
        }
      ]
    },
    {
      "cell_type": "markdown",
      "metadata": {
        "collapsed": true,
        "id": "_7iB1NaMxjtp",
        "colab_type": "text"
      },
      "source": [
        "## Exercícios do URI"
      ]
    },
    {
      "cell_type": "markdown",
      "metadata": {
        "collapsed": true,
        "id": "-8oG0ofMxjtp",
        "colab_type": "text"
      },
      "source": [
        "[1037](https://www.urionlinejudge.com.br/judge/pt/problems/view/1037) - Um histograma é um tipo de gráfico estatístico que particiona os dados disponíveis em subgrupos e informa quantos elementos existem em cada subgrupo.\n",
        "\n",
        "Escreva um código Python que possa ser usado para construir um histograma de um conjunto de números inteiros sorteados no intervalo [0,100), isto é, valores maiores ou iguais a 0 e menores que 100. \n",
        "\n",
        "Por simplicidade, considere que apenas um número será sorteado. Você deve identificar a qual dos intervalos a seguir este número pertence: [0,25), [25,50), [50,75), [75,100). "
      ]
    },
    {
      "cell_type": "markdown",
      "metadata": {
        "id": "21HJEfIuxjtt",
        "colab_type": "text"
      },
      "source": [
        "|.| Entrada | Saída |\n",
        "|-|:----:|---|\n",
        "| *Exemplo 1* | 5 | [0,25) | \n",
        "| *Exemplo 2* | 50 | [50,75) |\n",
        "| *Exemplo 3* | 74 | [50,75) |"
      ]
    },
    {
      "cell_type": "code",
      "metadata": {
        "id": "9kwhZDQIxjtt",
        "colab_type": "code",
        "outputId": "6ed0e3c6-c038-4297-870a-92d9747f414b",
        "colab": {
          "base_uri": "https://localhost:8080/",
          "height": 34
        }
      },
      "source": [
        "n = randint(0,100)\n",
        "if n >= 0 and n <= 25:\n",
        "  print (n, \"[0,25]\")\n",
        "elif n >= 26 and n <= 50:\n",
        "  print (n, \"[50,75]\")\n",
        "else:\n",
        "  print (n, \"[50,75]\")"
      ],
      "execution_count": 0,
      "outputs": [
        {
          "output_type": "stream",
          "text": [
            "19 [0,25]\n"
          ],
          "name": "stdout"
        }
      ]
    },
    {
      "cell_type": "markdown",
      "metadata": {
        "id": "iK8aheKvxjty",
        "colab_type": "text"
      },
      "source": [
        "[1049](https://www.urionlinejudge.com.br/judge/pt/problems/view/1049) - Uma árvore de classificação é uma ferramenta usada em diferentes áreas da ciência para ajudar a identificar objetos por suas características.\n",
        "\n",
        "Considerando a árvore de classificação abaixo, escreva um código Python que identifique um animal por suas características. Mais precisamente, seu código deve receber três textos como entrada e informar ao usuário de qual animal se trata.\n",
        "\n",
        "<img src=\"https://github.com/leobezerra/python-zero/blob/master/imgs/UOJ_1049_b.png?raw=1\">"
      ]
    },
    {
      "cell_type": "markdown",
      "metadata": {
        "id": "XSjkrb3oxjt4",
        "colab_type": "text"
      },
      "source": [
        "|.| Entrada | Saída |\n",
        "|-|----|---|\n",
        "| *Exemplo 1* | vertebrado<br/>mamifero<br/>onivoro | homem | \n",
        "| *Exemplo 2* | vertebrado<br/>ave<br/>carnivoro | aguia |\n",
        "| *Exemplo 3* | invertebrado<br/>anelideo<br/>onivoro | minhoca |"
      ]
    },
    {
      "cell_type": "code",
      "metadata": {
        "id": "52yxg5DJxjt6",
        "colab_type": "code",
        "outputId": "3e69f302-c54e-4364-e51a-1ed7909fda38",
        "colab": {
          "base_uri": "https://localhost:8080/",
          "height": 85
        }
      },
      "source": [
        "a = str(input(\"vertebrado ou invertebrado ?\"))\n",
        "\n",
        "\n",
        "\n",
        "if (a == \"vertebrado\"):\n",
        "  b = str(input(\"mamifero ou ave ?\"))\n",
        "  if (b == \"ave\"):\n",
        "    c = str(input(\"carnivoro ou onivoro ?\"))\n",
        "    if (c == \"carnivoro\"):\n",
        "      print(\"O animal é uma aguia\")\n",
        "    else:\n",
        "      print(\"O animal é uma pomba\")\n",
        "      \n",
        "  if (b == \"mamifero\"):\n",
        "    d = str(input(\"herbivoro ou onivoro ?\"))\n",
        "    if (d == \"carnivoro\"):\n",
        "      print(\"O animal é um homem\")\n",
        "    else:\n",
        "      print(\"O animal é uma vaca\")\n",
        "else:\n",
        "  e = str(input(\"inseto ou anelideo ?\"))\n",
        "  if (e == \"inseto\"):\n",
        "    d = str(input(\"hematofago ou herbivoro ?\"))\n",
        "    if (d == \"hematofago\"):\n",
        "      print(\"O animal é uma pulga\")\n",
        "    else:\n",
        "      print(\"O animal é uma largata\")\n",
        "      \n",
        "  if (e == \"anelideo\"):\n",
        "    d = str(input(\"hematofago ou onivoro ?\"))\n",
        "    if (d == \"hematofago\"):\n",
        "      print(\"O animal é uma sanguessuga\")\n",
        "    else:\n",
        "      print(\"O animal é uma largata\")"
      ],
      "execution_count": 0,
      "outputs": [
        {
          "output_type": "stream",
          "text": [
            "vertebrado ou invertebrado ?invertebrado\n",
            "inseto ou anelideo ?inseto\n",
            "hematofago ou herbivoro ?herbivoro\n",
            "O animal é uma largata\n"
          ],
          "name": "stdout"
        }
      ]
    },
    {
      "cell_type": "markdown",
      "metadata": {
        "id": "n-iWO5ZFxjt8",
        "colab_type": "text"
      },
      "source": [
        "[1049](https://www.urionlinejudge.com.br/judge/pt/problems/view/1049) - Em sistemas de computação gráfica, compreender diferentes sistemas de coordenadas é fundamental.\n",
        "\n",
        "Considere o sistema de coordenadas cartesiano apresentado na figura abaixo. Ele serve para representar pontos que apresentam duas dimensões, normalmente representados com a notação (x, y), onde x representa a coordenada horizontal e y a vertical.\n",
        "\n",
        "<img src=\"https://github.com/leobezerra/python-zero/blob/master/imgs/UOJ_1041.png?raw=1\">\n",
        "\n",
        "O ponto (0,0) representa a origem dos eixos e é a intersecção entre as quatro subregiões ilustradas na figura abaixo (Q1, Q2, Q3 e Q4, onde Q significa *quadrante*, isto é, uma subregião). Cada quadrante da figura representa pontos com as seguintes características:\n",
        "\n",
        "| Quadrante | Horizontal | Vertical |\n",
        "|:-:|:-:|:-:|\n",
        "| Q1 | x > 0 | y > 0 |\n",
        "| Q2 | x < 0 | y > 0 |\n",
        "| Q3 | x < 0 | y < 0 |\n",
        "| Q4 | x > 0 | y < 0 |\n",
        "\n",
        "Também é possível que um ponto esteja sobre um dos eixos:\n",
        "* Um ponto estará sobre o eixo x se y = 0;\n",
        "* Um ponto estará sobre o eixo y se x = 0.\n",
        "\n",
        "Considerando este contexto, escreva um código Python que leia um ponto (duas coordenadas reais) e informe a primeira condição abaixo que se mostrar verdadeira:\n",
        "* Se o ponto está na \"Origem\";\n",
        "* Se o ponto está sobre o \"Eixo X\";\n",
        "* Se o ponto está sobre o \"Eixo Y\";\n",
        "* Em qual quadrante o ponto está."
      ]
    },
    {
      "cell_type": "markdown",
      "metadata": {
        "id": "rWdcGtQRxjt9",
        "colab_type": "text"
      },
      "source": [
        "|.| Entrada | Saída |\n",
        "|-|:-:|:-:|\n",
        "| *Exemplo 1* | 4.5<br/>-2.2 | Q4 | \n",
        "| *Exemplo 2* | 0.1<br/>0.0 | Eixo X |\n",
        "| *Exemplo 3* | 0.0<br/>0.0 | Origem |"
      ]
    },
    {
      "cell_type": "code",
      "metadata": {
        "id": "J-UVp_Eixjt9",
        "colab_type": "code",
        "outputId": "daa89e95-8978-429e-ea99-87e30a3dde9f",
        "colab": {
          "base_uri": "https://localhost:8080/",
          "height": 68
        }
      },
      "source": [
        "x = float(input(\"informe um numero nesse formato: x.x\"))\n",
        "y = float(input(\"informe um numero nesse formato: x.x\"))\n",
        "\n",
        "if(x > 0 and y > 0):\n",
        " print(x, \" \", y, \"Q1\")\n",
        "elif(x < 0 and y > 0):\n",
        " print(x, \" \", y, \"Q2\")\n",
        "elif(x < 0 and y < 0):\n",
        " print(x, \" \", y, \"Q3\")\n",
        "elif(x > 0 and y < 0):\n",
        " print(x, \" \", y, \"Q4\")\n",
        "elif(x == 0 and y < 0 or y > 0):\n",
        " print(x, \" \", y, \"Eixo Y\")\n",
        "elif(x < 0 or x > 0 and y == 0):\n",
        " print(x, \" \", y, \"Eixo X\")\n",
        "else:\n",
        " print(x, \" \", y, \"Origem\")"
      ],
      "execution_count": 0,
      "outputs": [
        {
          "output_type": "stream",
          "text": [
            "informe um numero nesse formato: x.x4.5\n",
            "informe um numero nesse formato: x.x-2.2\n",
            "4.5   -2.2 Q4\n"
          ],
          "name": "stdout"
        }
      ]
    },
    {
      "cell_type": "markdown",
      "metadata": {
        "id": "91v35nnqxjuC",
        "colab_type": "text"
      },
      "source": [
        "[1051](https://www.urionlinejudge.com.br/judge/pt/problems/view/1051) - Sistemas contábeis e de recursos humanos precisam conhecer bem a legislação tributária do país para calcular os impostos a serem recolhidos mensalmente sobre o salário dos funcionários. \n",
        "\n",
        "Trabalhadores também precisam entender quanto ganham e porque existem descontos em seus contra-cheques.\n",
        "\n",
        "Neste exercício, você vai ajudar empresas e trabalhadores a entender os descontos da previdência social (INSS).\n",
        "\n",
        "A tabela usada para calcular esses descontos é apresentada a seguir."
      ]
    },
    {
      "cell_type": "markdown",
      "metadata": {
        "id": "VHGrUgwKxjuE",
        "colab_type": "text"
      },
      "source": [
        "| Salário de contribuição | Alíquota |\n",
        "|:-:|:-:|\n",
        "| Até 1.693,72 | 8% | \n",
        "| De 1.693,73 a 2.822,90 | 9% |\n",
        "| De 2.822,91 até 5.645,80 | 11% |"
      ]
    },
    {
      "cell_type": "markdown",
      "metadata": {
        "id": "r1KIUPP0xjuE",
        "colab_type": "text"
      },
      "source": [
        "Como você pode ver, o desconto sobre o salário depende da faixa salarial na qual um trabalhador se enquadre.\n",
        "\n",
        "Além disso, existe um teto na tabela que determina que pessoas que ganhem a partir de 5.645,81 devem contribuir com 621,04 (11% de 5.645,80).\n",
        "\n",
        "Escreva um código Python que receba um salário bruto (antes do desconto) e informe o valor da contribuição para o INSS e o salário líquido (após o desconto)."
      ]
    },
    {
      "cell_type": "markdown",
      "metadata": {
        "id": "hfxArychxjuF",
        "colab_type": "text"
      },
      "source": [
        "|.| Entrada | Saída |\n",
        "|-|:-:|-|\n",
        "| *Exemplo 1* | 7456.57 | 621.04 6835.53 | \n",
        "| *Exemplo 2* | 2822.90 | 254.06 2568.84 |\n",
        "| *Exemplo 3* | 1693.73 | 152.44 1541.29 |"
      ]
    },
    {
      "cell_type": "code",
      "metadata": {
        "id": "WmA0-J6lxjuG",
        "colab_type": "code",
        "outputId": "54f21167-d7e1-46aa-d08c-8d06b0b0af09",
        "colab": {
          "base_uri": "https://localhost:8080/",
          "height": 51
        }
      },
      "source": [
        "x = float(input(\"Digite o salário: \"))\n",
        "if(x <= 1693.72):\n",
        "  print((x*(8/100)), \" \", (x - (x*(8/100))))\n",
        "elif(x > 1693.72 and x < 2.822,90):\n",
        "  print((x*(9/100)), \" \", (x - (x*(9/100))))\n",
        "elif(x > 2.822,90 and x <=  5.645,80):\n",
        "  print((x*(11/100)), \" \", (x - (x*(11/100))))\n",
        "else:\n",
        "  print('621.04', (x - 621.04))"
      ],
      "execution_count": 0,
      "outputs": [
        {
          "output_type": "stream",
          "text": [
            "Digite o salário: 7456.57\t\n",
            "671.0912999999999   6785.4787\n"
          ],
          "name": "stdout"
        }
      ]
    },
    {
      "cell_type": "markdown",
      "metadata": {
        "id": "O5srTTXhxjuM",
        "colab_type": "text"
      },
      "source": [
        "Um segundo tipo de dedução mensal que incide sobre os ganhos dos trabalhadores é o *imposto de renda sobre pessoa física* (IRPF).\n",
        "\n",
        "Para o cálculo do IRPF, utiliza-se como base de cálculo o salário bruto descontado da contribuição do INSS. \n",
        "\n",
        "As principais diferenças em relação ao cálculo do INSS são:\n",
        "* Quem possui salário-base até 1.903,98 é isento do pagamento do IRPF.\n",
        "* Não há teto para a contribuição do IRPF.\n",
        "* O valor do IRPF cobrado a uma pessoa é abatido de um valor que varia em função da alíquota correspondente.\n",
        "\n",
        "A tabela usada para o cálculo do IRPF é mostrada abaixo."
      ]
    },
    {
      "cell_type": "markdown",
      "metadata": {
        "id": "FzQ8rKvjxjuP",
        "colab_type": "text"
      },
      "source": [
        "| Base de cálculo (R\\$) | Alíquota | Parcela a deduzir |\n",
        "|:-:|:-:|:-:|\n",
        "| Até 1.903,98 | - | - |\n",
        "| De 1.903,99 até 2.826,65 | 7,5% | 142,80 |\n",
        "| De 2.826,66 até 3.751,05 | 15% | 354,80 |\n",
        "| De 3.751,06 até 4.664,68 | 22,5% | 636,13 |\n",
        "| Acima de 4.664,68 | 27,5% | 869,36 |"
      ]
    },
    {
      "cell_type": "markdown",
      "metadata": {
        "id": "VEBQvJoHxjuP",
        "colab_type": "text"
      },
      "source": [
        "Para entender melhor o cálculo do IRPF, vamos tomar como exemplo uma pessoa que, descontada a contribuição do INSS, ganha 2.000,00.\n",
        "\n",
        "A alíquota para esta remuneração é de 7,5% e o abatimento de 142,80. Assim, a contribuição do IRPF será de 2.000,00 * 7,5% - 142,80 = 7,20.\n",
        "\n",
        "Escreva um código Python que receba um salário-base (já descontado do INSS) e informe o valor da contribuição do IRPF e o salário líquido (após o desconto do IRPF)."
      ]
    },
    {
      "cell_type": "markdown",
      "metadata": {
        "id": "hZDTjzeMxjuQ",
        "colab_type": "text"
      },
      "source": [
        "|.| Entrada | Saída |\n",
        "|-|:-:|-|\n",
        "| *Exemplo 1* | 6835.53 | 1010.41 5825.12 | \n",
        "| *Exemplo 2* | 2568.84 | 49.86 2518.98 |\n",
        "| *Exemplo 3* | 1541.29 | 0.00 1541.29 |"
      ]
    },
    {
      "cell_type": "code",
      "metadata": {
        "id": "7UyEcp9rxjuR",
        "colab_type": "code",
        "outputId": "188a16f2-235f-4794-e78d-7aeeda6b8d3c",
        "colab": {
          "base_uri": "https://localhost:8080/",
          "height": 51
        }
      },
      "source": [
        "x = float(input(\"Digite o salário: \"))\n",
        "if(x <= 1903.98):\n",
        "  print(\"Você está isento\")\n",
        "elif(x > 1903.98 and x < 2826.65):\n",
        "  print(((x*(75/1000))-142.80), \" \", (x-((x*(75/1000))-142.80)))\n",
        "elif(x > 2826.66 and x < 3751.05):\n",
        "  print(((x*(150/1000))-354.80), \" \", (x-((x*(150/1000))-354.80)))\n",
        "elif(x > 3751.06 and x < 4664,68):\n",
        "  print(((x*(225/1000))-636.13), \" \", (x-((x*(225/1000))-636.13)))\n",
        "else:\n",
        "  print(((x*(275/1000))-869.36), \" \", (x-((x*(275/1000))-869.36)))"
      ],
      "execution_count": 0,
      "outputs": [
        {
          "output_type": "stream",
          "text": [
            "Digite o salário: 6835.53\n",
            "901.86425   5933.66575\n"
          ],
          "name": "stdout"
        }
      ]
    }
  ]
}